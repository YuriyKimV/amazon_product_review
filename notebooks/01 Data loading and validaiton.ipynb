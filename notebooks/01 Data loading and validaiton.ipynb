{
 "cells": [
  {
   "cell_type": "markdown",
   "id": "124119fb-5bba-4b4b-98f8-8516f1ecf68b",
   "metadata": {},
   "source": [
    "# Data loading and validation"
   ]
  },
  {
   "cell_type": "markdown",
   "id": "acddd66c-3ed6-45d2-abd7-6b37b254e5e2",
   "metadata": {},
   "source": [
    "https://amazon-reviews-2023.github.io/"
   ]
  },
  {
   "cell_type": "code",
   "execution_count": 1,
   "id": "724f9fe3-3f8b-4601-9d78-fab228521d51",
   "metadata": {},
   "outputs": [],
   "source": [
    "import pandas as pd\n",
    "import json"
   ]
  },
  {
   "cell_type": "code",
   "execution_count": 5,
   "id": "326b0776-b8c1-464b-99fc-41519c8a6760",
   "metadata": {},
   "outputs": [],
   "source": [
    "#import review file\n",
    "file_review = \"../data/Video_Games.jsonl\""
   ]
  },
  {
   "cell_type": "markdown",
   "id": "fccce765-1508-494e-84d9-d45696fef162",
   "metadata": {},
   "source": [
    "## Review jsonl file content"
   ]
  },
  {
   "cell_type": "code",
   "execution_count": 6,
   "id": "d8036591-f6cd-465f-a90a-7fcd7084bf87",
   "metadata": {},
   "outputs": [
    {
     "name": "stdout",
     "output_type": "stream",
     "text": [
      "{'rating': 4.0, 'title': 'It’s pretty sexual. Not my fav', 'text': 'I’m playing on ps5 and it’s interesting.  It’s unique, massive, and has a neat story.  People are freaking out angry about this game.  I don’t think it’s a top 10 game but it’s definitely a good game on ps5 (played at launch).', 'images': [], 'asin': 'B07DJWBYKP', 'parent_asin': 'B07DK1H3H5', 'user_id': 'AGCI7FAH4GL5FI65HYLKWTMFZ2CQ', 'timestamp': 1608186804795, 'helpful_vote': 0, 'verified_purchase': True}\n",
      "{'rating': 5.0, 'title': 'Good. A bit slow', 'text': 'Nostalgic fun.  A bit slow.  I hope they don’t stretch it out too far.  It’s good tho', 'images': [], 'asin': 'B00ZS80PC2', 'parent_asin': 'B07SRWRH5D', 'user_id': 'AGCI7FAH4GL5FI65HYLKWTMFZ2CQ', 'timestamp': 1587051114941, 'helpful_vote': 1, 'verified_purchase': False}\n",
      "{'rating': 5.0, 'title': '... an order for my kids & they have really enjoyed playing this PC game', 'text': 'This was an order for my kids & they have really enjoyed playing this PC game.', 'images': [], 'asin': 'B01FEHJYUU', 'parent_asin': 'B07MFMFW34', 'user_id': 'AGXVBIUFLFGMVLATYXHJYL4A5Q7Q', 'timestamp': 1490877431000, 'helpful_vote': 0, 'verified_purchase': True}\n",
      "{'rating': 5.0, 'title': 'Great alt to pro controller', 'text': 'These work great, They use batteries which is a bummer, but for the 40 less that i paid its worth it. Batteries last a long time. Have been using to play rocket league on the switch with no issues', 'images': [], 'asin': 'B07GXJHRVK', 'parent_asin': 'B0BCHWZX95', 'user_id': 'AFTC6ZR5IKNRDG5JCPVNVMU3XV2Q', 'timestamp': 1577637634017, 'helpful_vote': 0, 'verified_purchase': True}\n",
      "{'rating': 5.0, 'title': 'solid product', 'text': 'I would recommend to anyone looking to add just a little bit of height and a lot of grip to their thumb sticks. These will not create miracles, but it will give you better leverage for shooters.', 'images': [], 'asin': 'B00HUWA45W', 'parent_asin': 'B00HUWA45W', 'user_id': 'AFTC6ZR5IKNRDG5JCPVNVMU3XV2Q', 'timestamp': 1427591932000, 'helpful_vote': 0, 'verified_purchase': True}\n"
     ]
    }
   ],
   "source": [
    "#diplay first 5 lines\n",
    "\n",
    "with open(file_review, 'r') as fp:\n",
    "    for i, line in enumerate(fp):\n",
    "        if i >= 5:  # Limit to the first 5 lines\n",
    "            break\n",
    "        print(json.loads(line.strip()))"
   ]
  },
  {
   "cell_type": "code",
   "execution_count": null,
   "id": "5d99b51b-990e-424d-9c3b-2cef2d48ce6f",
   "metadata": {},
   "outputs": [],
   "source": []
  },
  {
   "cell_type": "code",
   "execution_count": null,
   "id": "1deaccc4-abe3-46d6-b995-bea5b0e0a39b",
   "metadata": {},
   "outputs": [],
   "source": []
  },
  {
   "cell_type": "code",
   "execution_count": null,
   "id": "cf2930b5-5f6d-42bc-bd0c-13b264f34585",
   "metadata": {},
   "outputs": [],
   "source": []
  },
  {
   "cell_type": "code",
   "execution_count": null,
   "id": "088f8175-2930-47b0-a14c-6f2062398064",
   "metadata": {},
   "outputs": [],
   "source": []
  },
  {
   "cell_type": "code",
   "execution_count": null,
   "id": "7dc8e979-3138-4882-a826-93330f9f170f",
   "metadata": {},
   "outputs": [],
   "source": []
  }
 ],
 "metadata": {
  "kernelspec": {
   "display_name": "Python 3 (ipykernel)",
   "language": "python",
   "name": "python3"
  },
  "language_info": {
   "codemirror_mode": {
    "name": "ipython",
    "version": 3
   },
   "file_extension": ".py",
   "mimetype": "text/x-python",
   "name": "python",
   "nbconvert_exporter": "python",
   "pygments_lexer": "ipython3",
   "version": "3.12.2"
  }
 },
 "nbformat": 4,
 "nbformat_minor": 5
}
